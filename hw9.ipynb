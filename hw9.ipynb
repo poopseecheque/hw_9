{
 "cells": [
  {
   "cell_type": "code",
   "execution_count": 1,
   "id": "d90c3587-20b0-4a2c-90f7-bc31781ac83c",
   "metadata": {
    "tags": []
   },
   "outputs": [],
   "source": [
    "class Animal:\n",
    "    \"describes animals\"\n",
    "    def __init__(self, genus, name, year_of_birth, alive):\n",
    "        self.genus = genus\n",
    "        self.name = name\n",
    "        self.year_of_birth = year_of_birth\n",
    "        self.alive = alive\n",
    "        \n",
    "    def get_age(self, year):\n",
    "        return (year - self.year_of_birth)\n",
    "    \n",
    "    def get_info(self):\n",
    "        return (f'{self.name} is a {self.genus}')\n",
    "        \n",
    "    def is_alive(self):\n",
    "        if self.alive == True:\n",
    "            return (f'{self.name} is alive')\n",
    "        else:\n",
    "            return (f'{self.name} has passed away')\n",
    "    \n",
    "    def find_oldest(animal_list, year):\n",
    "        oldest_animal = None\n",
    "        max_age = -1 #in case born the same year as current\n",
    "        for animal in animal_list:\n",
    "            if animal.alive:  # only consider animals that are alive\n",
    "                age = animal.get_age(year)\n",
    "                if age > max_age:\n",
    "                    max_age = age\n",
    "                    oldest_animal = animal\n",
    "            if oldest_animal is None:\n",
    "                return \"No alive animals found\"\n",
    "        return oldest_animal"
   ]
  },
  {
   "cell_type": "code",
   "execution_count": 2,
   "id": "310a721b-4e95-4b99-8845-d049ecfa2d3e",
   "metadata": {
    "tags": []
   },
   "outputs": [
    {
     "data": {
      "text/plain": [
       "'Fluffy is alive'"
      ]
     },
     "execution_count": 2,
     "metadata": {},
     "output_type": "execute_result"
    }
   ],
   "source": [
    "a1 = Animal(\"cat\", \"Fluffy\", 2012, alive=True)\n",
    "a1.get_age(2024)\n",
    "a1.is_alive()"
   ]
  },
  {
   "cell_type": "code",
   "execution_count": 3,
   "id": "65159bba-0ee7-450e-bc08-b8a040cdc0e9",
   "metadata": {
    "tags": []
   },
   "outputs": [
    {
     "name": "stdout",
     "output_type": "stream",
     "text": [
      "Fluffy is a cat, age: 12\n",
      "Sccoby is a dog, age: 14\n",
      "Talsy is a giraffe, age: 19\n",
      "Slimy is a gecko, age: 1\n"
     ]
    }
   ],
   "source": [
    "a2 = Animal(\"dog\", \"Sccoby\", 2010, alive=False)\n",
    "a3 = Animal(\"giraffe\", \"Talsy\", 2005, alive=True)\n",
    "a4 = Animal(\"gecko\", \"Slimy\", 2023, alive=True)\n",
    "\n",
    "animals = [a1,a2,a3,a4]\n",
    "\n",
    "for animal in animals:\n",
    "    print(animal.get_info()+', age:', animal.get_age(2024))\n",
    "\n"
   ]
  },
  {
   "cell_type": "code",
   "execution_count": 4,
   "id": "181c70a1-890d-4e0f-9865-bcc16c31e32a",
   "metadata": {
    "tags": []
   },
   "outputs": [
    {
     "name": "stdout",
     "output_type": "stream",
     "text": [
      "Talsy is a giraffe, age: 19\n"
     ]
    }
   ],
   "source": [
    "oldest_a=Animal.find_oldest(animals, 2024)\n",
    "oldest_info=oldest_a.get_info()\n",
    "oldest_age=oldest_a.get_age(2024)\n",
    "print(oldest_info+', age:', oldest_age)"
   ]
  },
  {
   "cell_type": "code",
   "execution_count": 7,
   "id": "b98581c0-ee66-4655-845e-2d0d3d225f0a",
   "metadata": {
    "tags": []
   },
   "outputs": [],
   "source": [
    "animals_text = 'animals.txt'\n",
    "file = open(animals_text, 'w')\n",
    "for animal in animals:\n",
    "    file.write(f'{animal.get_info()}\\n')\n",
    "file.close()"
   ]
  },
  {
   "cell_type": "code",
   "execution_count": null,
   "id": "6310e272-bf61-4a6b-aef0-c6a7a36ab06b",
   "metadata": {},
   "outputs": [],
   "source": []
  },
  {
   "cell_type": "code",
   "execution_count": null,
   "id": "31dcbe3d-f454-4037-88b3-f1945c665644",
   "metadata": {},
   "outputs": [],
   "source": []
  },
  {
   "cell_type": "code",
   "execution_count": null,
   "id": "6f5a3510-1efe-4747-9069-362dbf6a18a8",
   "metadata": {},
   "outputs": [],
   "source": []
  }
 ],
 "metadata": {
  "kernelspec": {
   "display_name": "Python 3 (ipykernel)",
   "language": "python",
   "name": "python3"
  },
  "language_info": {
   "codemirror_mode": {
    "name": "ipython",
    "version": 3
   },
   "file_extension": ".py",
   "mimetype": "text/x-python",
   "name": "python",
   "nbconvert_exporter": "python",
   "pygments_lexer": "ipython3",
   "version": "3.10.9"
  }
 },
 "nbformat": 4,
 "nbformat_minor": 5
}
